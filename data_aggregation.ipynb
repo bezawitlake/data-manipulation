{
 "cells": [
  {
   "cell_type": "code",
   "execution_count": 1,
   "id": "c238e899",
   "metadata": {},
   "outputs": [],
   "source": [
    "import pandas as pd"
   ]
  },
  {
   "cell_type": "code",
   "execution_count": 2,
   "id": "b89ef46d",
   "metadata": {},
   "outputs": [],
   "source": [
    "data = pd.read_csv('healthcare.csv')"
   ]
  },
  {
   "cell_type": "markdown",
   "id": "1ddaea59",
   "metadata": {},
   "source": [
    "#  data aggregation"
   ]
  },
  {
   "cell_type": "code",
   "execution_count": 3,
   "id": "635a7cd9",
   "metadata": {},
   "outputs": [
    {
     "data": {
      "text/html": [
       "<div>\n",
       "<style scoped>\n",
       "    .dataframe tbody tr th:only-of-type {\n",
       "        vertical-align: middle;\n",
       "    }\n",
       "\n",
       "    .dataframe tbody tr th {\n",
       "        vertical-align: top;\n",
       "    }\n",
       "\n",
       "    .dataframe thead th {\n",
       "        text-align: right;\n",
       "    }\n",
       "</style>\n",
       "<table border=\"1\" class=\"dataframe\">\n",
       "  <thead>\n",
       "    <tr style=\"text-align: right;\">\n",
       "      <th></th>\n",
       "      <th>name</th>\n",
       "      <th>age</th>\n",
       "      <th>gender</th>\n",
       "      <th>blood_type</th>\n",
       "      <th>medical_condition</th>\n",
       "      <th>date_of_admission</th>\n",
       "      <th>doctor</th>\n",
       "      <th>hospital</th>\n",
       "      <th>insurance_provider</th>\n",
       "      <th>billing_amount</th>\n",
       "      <th>room_number</th>\n",
       "      <th>admission_type</th>\n",
       "      <th>discharge_date</th>\n",
       "      <th>medication</th>\n",
       "      <th>test_results</th>\n",
       "    </tr>\n",
       "  </thead>\n",
       "  <tbody>\n",
       "    <tr>\n",
       "      <th>0</th>\n",
       "      <td>Bobby JacksOn</td>\n",
       "      <td>30</td>\n",
       "      <td>Male</td>\n",
       "      <td>B-</td>\n",
       "      <td>Cancer</td>\n",
       "      <td>2024-01-31</td>\n",
       "      <td>Matthew Smith</td>\n",
       "      <td>Sons and Miller</td>\n",
       "      <td>Blue Cross</td>\n",
       "      <td>18856.281306</td>\n",
       "      <td>328</td>\n",
       "      <td>Urgent</td>\n",
       "      <td>2024-02-02</td>\n",
       "      <td>Paracetamol</td>\n",
       "      <td>Normal</td>\n",
       "    </tr>\n",
       "    <tr>\n",
       "      <th>1</th>\n",
       "      <td>LesLie TErRy</td>\n",
       "      <td>62</td>\n",
       "      <td>Male</td>\n",
       "      <td>A+</td>\n",
       "      <td>Obesity</td>\n",
       "      <td>2019-08-20</td>\n",
       "      <td>Samantha Davies</td>\n",
       "      <td>Kim Inc</td>\n",
       "      <td>Medicare</td>\n",
       "      <td>33643.327287</td>\n",
       "      <td>265</td>\n",
       "      <td>Emergency</td>\n",
       "      <td>2019-08-26</td>\n",
       "      <td>Ibuprofen</td>\n",
       "      <td>Inconclusive</td>\n",
       "    </tr>\n",
       "    <tr>\n",
       "      <th>2</th>\n",
       "      <td>DaNnY sMitH</td>\n",
       "      <td>76</td>\n",
       "      <td>Female</td>\n",
       "      <td>A-</td>\n",
       "      <td>Obesity</td>\n",
       "      <td>2022-09-22</td>\n",
       "      <td>Tiffany Mitchell</td>\n",
       "      <td>Cook PLC</td>\n",
       "      <td>Aetna</td>\n",
       "      <td>27955.096079</td>\n",
       "      <td>205</td>\n",
       "      <td>Emergency</td>\n",
       "      <td>2022-10-07</td>\n",
       "      <td>Aspirin</td>\n",
       "      <td>Normal</td>\n",
       "    </tr>\n",
       "    <tr>\n",
       "      <th>3</th>\n",
       "      <td>andrEw waTtS</td>\n",
       "      <td>28</td>\n",
       "      <td>Female</td>\n",
       "      <td>O+</td>\n",
       "      <td>Diabetes</td>\n",
       "      <td>2020-11-18</td>\n",
       "      <td>Kevin Wells</td>\n",
       "      <td>Hernandez Rogers and Vang,</td>\n",
       "      <td>Medicare</td>\n",
       "      <td>37909.782410</td>\n",
       "      <td>450</td>\n",
       "      <td>Elective</td>\n",
       "      <td>2020-12-18</td>\n",
       "      <td>Ibuprofen</td>\n",
       "      <td>Abnormal</td>\n",
       "    </tr>\n",
       "    <tr>\n",
       "      <th>4</th>\n",
       "      <td>adrIENNE bEll</td>\n",
       "      <td>43</td>\n",
       "      <td>Female</td>\n",
       "      <td>AB+</td>\n",
       "      <td>Cancer</td>\n",
       "      <td>2022-09-19</td>\n",
       "      <td>Kathleen Hanna</td>\n",
       "      <td>White-White</td>\n",
       "      <td>Aetna</td>\n",
       "      <td>14238.317814</td>\n",
       "      <td>458</td>\n",
       "      <td>Urgent</td>\n",
       "      <td>2022-10-09</td>\n",
       "      <td>Penicillin</td>\n",
       "      <td>Abnormal</td>\n",
       "    </tr>\n",
       "  </tbody>\n",
       "</table>\n",
       "</div>"
      ],
      "text/plain": [
       "            name  age  gender blood_type medical_condition date_of_admission  \\\n",
       "0  Bobby JacksOn   30    Male         B-            Cancer        2024-01-31   \n",
       "1   LesLie TErRy   62    Male         A+           Obesity        2019-08-20   \n",
       "2    DaNnY sMitH   76  Female         A-           Obesity        2022-09-22   \n",
       "3   andrEw waTtS   28  Female         O+          Diabetes        2020-11-18   \n",
       "4  adrIENNE bEll   43  Female        AB+            Cancer        2022-09-19   \n",
       "\n",
       "             doctor                    hospital insurance_provider  \\\n",
       "0     Matthew Smith             Sons and Miller         Blue Cross   \n",
       "1   Samantha Davies                     Kim Inc           Medicare   \n",
       "2  Tiffany Mitchell                    Cook PLC              Aetna   \n",
       "3       Kevin Wells  Hernandez Rogers and Vang,           Medicare   \n",
       "4    Kathleen Hanna                 White-White              Aetna   \n",
       "\n",
       "   billing_amount  room_number admission_type discharge_date   medication  \\\n",
       "0    18856.281306          328         Urgent     2024-02-02  Paracetamol   \n",
       "1    33643.327287          265      Emergency     2019-08-26    Ibuprofen   \n",
       "2    27955.096079          205      Emergency     2022-10-07      Aspirin   \n",
       "3    37909.782410          450       Elective     2020-12-18    Ibuprofen   \n",
       "4    14238.317814          458         Urgent     2022-10-09   Penicillin   \n",
       "\n",
       "   test_results  \n",
       "0        Normal  \n",
       "1  Inconclusive  \n",
       "2        Normal  \n",
       "3      Abnormal  \n",
       "4      Abnormal  "
      ]
     },
     "execution_count": 3,
     "metadata": {},
     "output_type": "execute_result"
    }
   ],
   "source": [
    "# Lowercase column names\n",
    "data.columns = data.columns.str.lower()\n",
    "\n",
    "# Replace spaces with underscores\n",
    "data.columns = data.columns.str.replace(' ', '_')\n",
    "data.head()"
   ]
  },
  {
   "cell_type": "markdown",
   "id": "eba4cdc3",
   "metadata": {},
   "source": [
    "# 1. Summary statistics"
   ]
  },
  {
   "cell_type": "code",
   "execution_count": 4,
   "id": "5807293e",
   "metadata": {},
   "outputs": [
    {
     "name": "stdout",
     "output_type": "stream",
     "text": [
      "52.0\n"
     ]
    }
   ],
   "source": [
    "print(data['age'].median())"
   ]
  },
  {
   "cell_type": "code",
   "execution_count": 5,
   "id": "076440da",
   "metadata": {},
   "outputs": [
    {
     "name": "stdout",
     "output_type": "stream",
     "text": [
      "25539.316097211795\n"
     ]
    }
   ],
   "source": [
    "print(data['billing_amount'].mean())"
   ]
  },
  {
   "cell_type": "code",
   "execution_count": 6,
   "id": "8f6eb31e",
   "metadata": {},
   "outputs": [
    {
     "name": "stdout",
     "output_type": "stream",
     "text": [
      "2024-05-07\n"
     ]
    }
   ],
   "source": [
    "# Print the maximum of the date column\n",
    "print(max(data['date_of_admission']))"
   ]
  },
  {
   "cell_type": "code",
   "execution_count": 7,
   "id": "3e302c75",
   "metadata": {},
   "outputs": [
    {
     "name": "stdout",
     "output_type": "stream",
     "text": [
      "2019-05-09\n"
     ]
    }
   ],
   "source": [
    "print(min(data['discharge_date']))"
   ]
  },
  {
   "cell_type": "code",
   "execution_count": 8,
   "id": "eebb1cfb",
   "metadata": {},
   "outputs": [
    {
     "name": "stdout",
     "output_type": "stream",
     "text": [
      "1417432043.3952546\n"
     ]
    }
   ],
   "source": [
    "total_billing_amount = data['billing_amount'].agg('sum')\n",
    "print(total_billing_amount)"
   ]
  },
  {
   "cell_type": "code",
   "execution_count": 9,
   "id": "5213eeff",
   "metadata": {},
   "outputs": [
    {
     "name": "stdout",
     "output_type": "stream",
     "text": [
      "billing_amount    1.417432e+09\n",
      "age               5.153946e+01\n",
      "dtype: float64\n"
     ]
    }
   ],
   "source": [
    "aggregated_data = data.agg({'billing_amount': 'sum', 'age': 'mean'})\n",
    "print(aggregated_data)"
   ]
  },
  {
   "cell_type": "code",
   "execution_count": 10,
   "id": "b79505ca",
   "metadata": {},
   "outputs": [
    {
     "name": "stdout",
     "output_type": "stream",
     "text": [
      "     billing_amount   age\n",
      "sum    1.417432e+09   NaN\n",
      "min             NaN  13.0\n",
      "max             NaN  89.0\n"
     ]
    }
   ],
   "source": [
    "aggregated_data = data.agg({'billing_amount': 'sum', 'age': ['min', 'max']})\n",
    "print(aggregated_data)"
   ]
  },
  {
   "cell_type": "code",
   "execution_count": 11,
   "id": "15f00469",
   "metadata": {},
   "outputs": [
    {
     "data": {
      "text/html": [
       "<div>\n",
       "<style scoped>\n",
       "    .dataframe tbody tr th:only-of-type {\n",
       "        vertical-align: middle;\n",
       "    }\n",
       "\n",
       "    .dataframe tbody tr th {\n",
       "        vertical-align: top;\n",
       "    }\n",
       "\n",
       "    .dataframe thead th {\n",
       "        text-align: right;\n",
       "    }\n",
       "</style>\n",
       "<table border=\"1\" class=\"dataframe\">\n",
       "  <thead>\n",
       "    <tr style=\"text-align: right;\">\n",
       "      <th></th>\n",
       "      <th>name</th>\n",
       "      <th>age</th>\n",
       "      <th>gender</th>\n",
       "      <th>blood_type</th>\n",
       "      <th>medical_condition</th>\n",
       "      <th>date_of_admission</th>\n",
       "      <th>doctor</th>\n",
       "      <th>hospital</th>\n",
       "      <th>insurance_provider</th>\n",
       "      <th>billing_amount</th>\n",
       "      <th>room_number</th>\n",
       "      <th>admission_type</th>\n",
       "      <th>discharge_date</th>\n",
       "      <th>medication</th>\n",
       "      <th>test_results</th>\n",
       "    </tr>\n",
       "  </thead>\n",
       "  <tbody>\n",
       "    <tr>\n",
       "      <th>0</th>\n",
       "      <td>Bobby JacksOn</td>\n",
       "      <td>30</td>\n",
       "      <td>Male</td>\n",
       "      <td>B-</td>\n",
       "      <td>Cancer</td>\n",
       "      <td>2024-01-31</td>\n",
       "      <td>Matthew Smith</td>\n",
       "      <td>Sons and Miller</td>\n",
       "      <td>Blue Cross</td>\n",
       "      <td>18856.281306</td>\n",
       "      <td>328</td>\n",
       "      <td>Urgent</td>\n",
       "      <td>2024-02-02</td>\n",
       "      <td>Paracetamol</td>\n",
       "      <td>Normal</td>\n",
       "    </tr>\n",
       "    <tr>\n",
       "      <th>1</th>\n",
       "      <td>LesLie TErRy</td>\n",
       "      <td>62</td>\n",
       "      <td>Male</td>\n",
       "      <td>A+</td>\n",
       "      <td>Obesity</td>\n",
       "      <td>2019-08-20</td>\n",
       "      <td>Samantha Davies</td>\n",
       "      <td>Kim Inc</td>\n",
       "      <td>Medicare</td>\n",
       "      <td>33643.327287</td>\n",
       "      <td>265</td>\n",
       "      <td>Emergency</td>\n",
       "      <td>2019-08-26</td>\n",
       "      <td>Ibuprofen</td>\n",
       "      <td>Inconclusive</td>\n",
       "    </tr>\n",
       "    <tr>\n",
       "      <th>2</th>\n",
       "      <td>DaNnY sMitH</td>\n",
       "      <td>76</td>\n",
       "      <td>Female</td>\n",
       "      <td>A-</td>\n",
       "      <td>Obesity</td>\n",
       "      <td>2022-09-22</td>\n",
       "      <td>Tiffany Mitchell</td>\n",
       "      <td>Cook PLC</td>\n",
       "      <td>Aetna</td>\n",
       "      <td>27955.096079</td>\n",
       "      <td>205</td>\n",
       "      <td>Emergency</td>\n",
       "      <td>2022-10-07</td>\n",
       "      <td>Aspirin</td>\n",
       "      <td>Normal</td>\n",
       "    </tr>\n",
       "    <tr>\n",
       "      <th>3</th>\n",
       "      <td>andrEw waTtS</td>\n",
       "      <td>28</td>\n",
       "      <td>Female</td>\n",
       "      <td>O+</td>\n",
       "      <td>Diabetes</td>\n",
       "      <td>2020-11-18</td>\n",
       "      <td>Kevin Wells</td>\n",
       "      <td>Hernandez Rogers and Vang,</td>\n",
       "      <td>Medicare</td>\n",
       "      <td>37909.782410</td>\n",
       "      <td>450</td>\n",
       "      <td>Elective</td>\n",
       "      <td>2020-12-18</td>\n",
       "      <td>Ibuprofen</td>\n",
       "      <td>Abnormal</td>\n",
       "    </tr>\n",
       "    <tr>\n",
       "      <th>4</th>\n",
       "      <td>adrIENNE bEll</td>\n",
       "      <td>43</td>\n",
       "      <td>Female</td>\n",
       "      <td>AB+</td>\n",
       "      <td>Cancer</td>\n",
       "      <td>2022-09-19</td>\n",
       "      <td>Kathleen Hanna</td>\n",
       "      <td>White-White</td>\n",
       "      <td>Aetna</td>\n",
       "      <td>14238.317814</td>\n",
       "      <td>458</td>\n",
       "      <td>Urgent</td>\n",
       "      <td>2022-10-09</td>\n",
       "      <td>Penicillin</td>\n",
       "      <td>Abnormal</td>\n",
       "    </tr>\n",
       "  </tbody>\n",
       "</table>\n",
       "</div>"
      ],
      "text/plain": [
       "            name  age  gender blood_type medical_condition date_of_admission  \\\n",
       "0  Bobby JacksOn   30    Male         B-            Cancer        2024-01-31   \n",
       "1   LesLie TErRy   62    Male         A+           Obesity        2019-08-20   \n",
       "2    DaNnY sMitH   76  Female         A-           Obesity        2022-09-22   \n",
       "3   andrEw waTtS   28  Female         O+          Diabetes        2020-11-18   \n",
       "4  adrIENNE bEll   43  Female        AB+            Cancer        2022-09-19   \n",
       "\n",
       "             doctor                    hospital insurance_provider  \\\n",
       "0     Matthew Smith             Sons and Miller         Blue Cross   \n",
       "1   Samantha Davies                     Kim Inc           Medicare   \n",
       "2  Tiffany Mitchell                    Cook PLC              Aetna   \n",
       "3       Kevin Wells  Hernandez Rogers and Vang,           Medicare   \n",
       "4    Kathleen Hanna                 White-White              Aetna   \n",
       "\n",
       "   billing_amount  room_number admission_type discharge_date   medication  \\\n",
       "0    18856.281306          328         Urgent     2024-02-02  Paracetamol   \n",
       "1    33643.327287          265      Emergency     2019-08-26    Ibuprofen   \n",
       "2    27955.096079          205      Emergency     2022-10-07      Aspirin   \n",
       "3    37909.782410          450       Elective     2020-12-18    Ibuprofen   \n",
       "4    14238.317814          458         Urgent     2022-10-09   Penicillin   \n",
       "\n",
       "   test_results  \n",
       "0        Normal  \n",
       "1  Inconclusive  \n",
       "2        Normal  \n",
       "3      Abnormal  \n",
       "4      Abnormal  "
      ]
     },
     "execution_count": 11,
     "metadata": {},
     "output_type": "execute_result"
    }
   ],
   "source": [
    "medication_types = data.drop_duplicates(subset=['medication','medical_condition'])\n",
    "medication_types.head()"
   ]
  },
  {
   "cell_type": "code",
   "execution_count": 12,
   "id": "e12c4a25",
   "metadata": {},
   "outputs": [
    {
     "data": {
      "text/plain": [
       "name                  55500\n",
       "age                   55500\n",
       "gender                55500\n",
       "blood_type            55500\n",
       "medical_condition     55500\n",
       "date_of_admission     55500\n",
       "doctor                55500\n",
       "hospital              55500\n",
       "insurance_provider    55500\n",
       "billing_amount        55500\n",
       "room_number           55500\n",
       "admission_type        55500\n",
       "discharge_date        55500\n",
       "medication            55500\n",
       "test_results          55500\n",
       "dtype: int64"
      ]
     },
     "execution_count": 12,
     "metadata": {},
     "output_type": "execute_result"
    }
   ],
   "source": [
    "# Count of non-null values in each column\n",
    "counts = data.count() \n",
    "counts"
   ]
  },
  {
   "cell_type": "code",
   "execution_count": 13,
   "id": "4506024f",
   "metadata": {},
   "outputs": [
    {
     "data": {
      "text/plain": [
       "A-     6969\n",
       "A+     6956\n",
       "AB+    6947\n",
       "AB-    6945\n",
       "B+     6945\n",
       "B-     6944\n",
       "O+     6917\n",
       "O-     6877\n",
       "Name: blood_type, dtype: int64"
      ]
     },
     "execution_count": 13,
     "metadata": {},
     "output_type": "execute_result"
    }
   ],
   "source": [
    "# Count of unique values in the 'blood_type' column\n",
    "blood_type_counts = data['blood_type'].value_counts()\n",
    "blood_type_counts"
   ]
  },
  {
   "cell_type": "code",
   "execution_count": 14,
   "id": "26215cc3",
   "metadata": {},
   "outputs": [
    {
     "name": "stdout",
     "output_type": "stream",
     "text": [
      "A-     0.125568\n",
      "A+     0.125333\n",
      "AB+    0.125171\n",
      "AB-    0.125135\n",
      "B+     0.125135\n",
      "B-     0.125117\n",
      "O+     0.124631\n",
      "O-     0.123910\n",
      "Name: blood_type, dtype: float64\n"
     ]
    }
   ],
   "source": [
    "# Proportions of unique values\n",
    "proportions = data['blood_type'].value_counts(normalize=True)\n",
    "print(proportions)"
   ]
  },
  {
   "cell_type": "code",
   "execution_count": 15,
   "id": "573c4ac7",
   "metadata": {},
   "outputs": [
    {
     "data": {
      "text/plain": [
       "B-     6944\n",
       "A+     6956\n",
       "A-     6969\n",
       "O+     6917\n",
       "AB+    6947\n",
       "AB-    6945\n",
       "B+     6945\n",
       "O-     6877\n",
       "Name: blood_type, dtype: int64"
      ]
     },
     "execution_count": 15,
     "metadata": {},
     "output_type": "execute_result"
    }
   ],
   "source": [
    "# By default, sort= True, which sorts the output in desc order\n",
    "value_counts = data['blood_type'].value_counts(sort=False)\n",
    "value_counts"
   ]
  },
  {
   "cell_type": "code",
   "execution_count": 16,
   "id": "819cf5fa",
   "metadata": {},
   "outputs": [
    {
     "data": {
      "text/plain": [
       "hospital\n",
       "Abbott Inc                       38052.041917\n",
       "Abbott Ltd                       29877.586483\n",
       "Abbott Moore and Williams,       24799.596339\n",
       "Abbott and Thompson, Sullivan    16738.569765\n",
       "Abbott, Peters and Hoffman       37684.793727\n",
       "                                     ...     \n",
       "and Zimmerman Sons               32706.652625\n",
       "and Zuniga Davis Carlson,        42867.041298\n",
       "and Zuniga Francis Peterson,     33689.630726\n",
       "and Zuniga Sons                  33950.170483\n",
       "and Zuniga Thompson, Blake       22067.428763\n",
       "Name: billing_amount, Length: 39876, dtype: float64"
      ]
     },
     "execution_count": 16,
     "metadata": {},
     "output_type": "execute_result"
    }
   ],
   "source": [
    "#What is the total billing amount for each hospital?\n",
    "total_billing_amount = data.groupby('hospital')['billing_amount'].sum()\n",
    "total_billing_amount"
   ]
  },
  {
   "cell_type": "code",
   "execution_count": 17,
   "id": "76d4a9f4",
   "metadata": {},
   "outputs": [
    {
     "data": {
      "text/plain": [
       "medical_condition\n",
       "Arthritis       51.565320\n",
       "Asthma          51.575830\n",
       "Cancer          51.558795\n",
       "Diabetes        51.554170\n",
       "Hypertension    51.741915\n",
       "Obesity         51.240277\n",
       "Name: age, dtype: float64"
      ]
     },
     "execution_count": 17,
     "metadata": {},
     "output_type": "execute_result"
    }
   ],
   "source": [
    "# What is the average age of patients based on their medical condition?\n",
    "average_age_by_medical_condition = data.groupby('medical_condition')['age'].mean()\n",
    "average_age_by_medical_condition"
   ]
  },
  {
   "cell_type": "code",
   "execution_count": 18,
   "id": "0f3bbd99",
   "metadata": {},
   "outputs": [
    {
     "data": {
      "text/plain": [
       "blood_type  gender\n",
       "A+          Female    3564\n",
       "            Male      3392\n",
       "A-          Female    3449\n",
       "            Male      3520\n",
       "AB+         Female    3438\n",
       "            Male      3509\n",
       "AB-         Female    3461\n",
       "            Male      3484\n",
       "B+          Female    3377\n",
       "            Male      3568\n",
       "B-          Female    3461\n",
       "            Male      3483\n",
       "O+          Female    3464\n",
       "            Male      3453\n",
       "O-          Female    3512\n",
       "            Male      3365\n",
       "Name: age, dtype: int64"
      ]
     },
     "execution_count": 18,
     "metadata": {},
     "output_type": "execute_result"
    }
   ],
   "source": [
    "# How many male and female patients were admitted under each blood type?\n",
    "gender_count_by_blood_type = data.groupby(['blood_type', 'gender'])['age'].count()\n",
    "gender_count_by_blood_type"
   ]
  },
  {
   "cell_type": "code",
   "execution_count": 19,
   "id": "260783b7",
   "metadata": {},
   "outputs": [
    {
     "data": {
      "text/plain": [
       "medical_condition  gender\n",
       "Arthritis          Female    4686\n",
       "                   Male      4622\n",
       "Asthma             Female    4553\n",
       "                   Male      4632\n",
       "Cancer             Female    4602\n",
       "                   Male      4625\n",
       "Diabetes           Female    4651\n",
       "                   Male      4653\n",
       "Hypertension       Female    4612\n",
       "                   Male      4633\n",
       "Obesity            Female    4622\n",
       "                   Male      4609\n",
       "Name: age, dtype: int64"
      ]
     },
     "execution_count": 19,
     "metadata": {},
     "output_type": "execute_result"
    }
   ],
   "source": [
    "# How many male and female patients were admitted for a medical condition?\n",
    "medical_condition_by_blood_type = data.groupby(['medical_condition', 'gender'])['age'].count()\n",
    "medical_condition_by_blood_type"
   ]
  },
  {
   "cell_type": "code",
   "execution_count": 20,
   "id": "0f92000a",
   "metadata": {},
   "outputs": [
    {
     "data": {
      "text/plain": [
       "insurance_provider\n",
       "Aetna               52211.852966\n",
       "Blue Cross          52764.276736\n",
       "Cigna               52170.036854\n",
       "Medicare            52092.669896\n",
       "UnitedHealthcare    52373.032374\n",
       "Name: billing_amount, dtype: float64"
      ]
     },
     "execution_count": 20,
     "metadata": {},
     "output_type": "execute_result"
    }
   ],
   "source": [
    "# What is the maximum billing amount for each insurance provider?\n",
    "max_billing_amount_by_insurance = data.groupby('insurance_provider')['billing_amount'].max()\n",
    "max_billing_amount_by_insurance"
   ]
  },
  {
   "cell_type": "code",
   "execution_count": 21,
   "id": "f4636c53",
   "metadata": {},
   "outputs": [
    {
     "data": {
      "text/plain": [
       "admission_type\n",
       "Elective     18655\n",
       "Emergency    18269\n",
       "Urgent       18576\n",
       "Name: age, dtype: int64"
      ]
     },
     "execution_count": 21,
     "metadata": {},
     "output_type": "execute_result"
    }
   ],
   "source": [
    "# How many patients were admitted under each admission type?\n",
    "patient_count_by_admission_type = data.groupby('admission_type')['age'].count()\n",
    "patient_count_by_admission_type"
   ]
  },
  {
   "cell_type": "code",
   "execution_count": 22,
   "id": "5f0b05ea",
   "metadata": {},
   "outputs": [
    {
     "name": "stderr",
     "output_type": "stream",
     "text": [
      "C:\\Users\\Pc\\AppData\\Local\\Temp\\ipykernel_11948\\4043653350.py:2: FutureWarning: Indexing with multiple keys (implicitly converted to a tuple of keys) will be deprecated, use a list instead.\n",
      "  admission_discharge_dates = data.groupby('hospital')['date_of_admission', 'discharge_date'].agg(['min', 'max'])\n"
     ]
    },
    {
     "data": {
      "text/html": [
       "<div>\n",
       "<style scoped>\n",
       "    .dataframe tbody tr th:only-of-type {\n",
       "        vertical-align: middle;\n",
       "    }\n",
       "\n",
       "    .dataframe tbody tr th {\n",
       "        vertical-align: top;\n",
       "    }\n",
       "\n",
       "    .dataframe thead tr th {\n",
       "        text-align: left;\n",
       "    }\n",
       "\n",
       "    .dataframe thead tr:last-of-type th {\n",
       "        text-align: right;\n",
       "    }\n",
       "</style>\n",
       "<table border=\"1\" class=\"dataframe\">\n",
       "  <thead>\n",
       "    <tr>\n",
       "      <th></th>\n",
       "      <th colspan=\"2\" halign=\"left\">date_of_admission</th>\n",
       "      <th colspan=\"2\" halign=\"left\">discharge_date</th>\n",
       "    </tr>\n",
       "    <tr>\n",
       "      <th></th>\n",
       "      <th>min</th>\n",
       "      <th>max</th>\n",
       "      <th>min</th>\n",
       "      <th>max</th>\n",
       "    </tr>\n",
       "    <tr>\n",
       "      <th>hospital</th>\n",
       "      <th></th>\n",
       "      <th></th>\n",
       "      <th></th>\n",
       "      <th></th>\n",
       "    </tr>\n",
       "  </thead>\n",
       "  <tbody>\n",
       "    <tr>\n",
       "      <th>Abbott Inc</th>\n",
       "      <td>2022-05-07</td>\n",
       "      <td>2022-05-07</td>\n",
       "      <td>2022-05-10</td>\n",
       "      <td>2022-05-10</td>\n",
       "    </tr>\n",
       "    <tr>\n",
       "      <th>Abbott Ltd</th>\n",
       "      <td>2022-08-01</td>\n",
       "      <td>2022-08-01</td>\n",
       "      <td>2022-08-20</td>\n",
       "      <td>2022-08-20</td>\n",
       "    </tr>\n",
       "    <tr>\n",
       "      <th>Abbott Moore and Williams,</th>\n",
       "      <td>2022-08-25</td>\n",
       "      <td>2022-08-25</td>\n",
       "      <td>2022-09-19</td>\n",
       "      <td>2022-09-19</td>\n",
       "    </tr>\n",
       "    <tr>\n",
       "      <th>Abbott and Thompson, Sullivan</th>\n",
       "      <td>2022-12-03</td>\n",
       "      <td>2022-12-03</td>\n",
       "      <td>2022-12-29</td>\n",
       "      <td>2022-12-29</td>\n",
       "    </tr>\n",
       "    <tr>\n",
       "      <th>Abbott, Peters and Hoffman</th>\n",
       "      <td>2022-01-05</td>\n",
       "      <td>2022-01-05</td>\n",
       "      <td>2022-01-18</td>\n",
       "      <td>2022-01-18</td>\n",
       "    </tr>\n",
       "    <tr>\n",
       "      <th>...</th>\n",
       "      <td>...</td>\n",
       "      <td>...</td>\n",
       "      <td>...</td>\n",
       "      <td>...</td>\n",
       "    </tr>\n",
       "    <tr>\n",
       "      <th>and Zimmerman Sons</th>\n",
       "      <td>2019-08-14</td>\n",
       "      <td>2019-08-14</td>\n",
       "      <td>2019-08-16</td>\n",
       "      <td>2019-08-16</td>\n",
       "    </tr>\n",
       "    <tr>\n",
       "      <th>and Zuniga Davis Carlson,</th>\n",
       "      <td>2019-10-25</td>\n",
       "      <td>2019-10-25</td>\n",
       "      <td>2019-11-11</td>\n",
       "      <td>2019-11-11</td>\n",
       "    </tr>\n",
       "    <tr>\n",
       "      <th>and Zuniga Francis Peterson,</th>\n",
       "      <td>2020-09-03</td>\n",
       "      <td>2020-09-03</td>\n",
       "      <td>2020-09-13</td>\n",
       "      <td>2020-09-13</td>\n",
       "    </tr>\n",
       "    <tr>\n",
       "      <th>and Zuniga Sons</th>\n",
       "      <td>2022-07-15</td>\n",
       "      <td>2022-07-15</td>\n",
       "      <td>2022-07-30</td>\n",
       "      <td>2022-07-30</td>\n",
       "    </tr>\n",
       "    <tr>\n",
       "      <th>and Zuniga Thompson, Blake</th>\n",
       "      <td>2022-06-24</td>\n",
       "      <td>2022-06-24</td>\n",
       "      <td>2022-06-25</td>\n",
       "      <td>2022-06-25</td>\n",
       "    </tr>\n",
       "  </tbody>\n",
       "</table>\n",
       "<p>39876 rows × 4 columns</p>\n",
       "</div>"
      ],
      "text/plain": [
       "                              date_of_admission             discharge_date  \\\n",
       "                                            min         max            min   \n",
       "hospital                                                                     \n",
       "Abbott Inc                           2022-05-07  2022-05-07     2022-05-10   \n",
       "Abbott Ltd                           2022-08-01  2022-08-01     2022-08-20   \n",
       "Abbott Moore and Williams,           2022-08-25  2022-08-25     2022-09-19   \n",
       "Abbott and Thompson, Sullivan        2022-12-03  2022-12-03     2022-12-29   \n",
       "Abbott, Peters and Hoffman           2022-01-05  2022-01-05     2022-01-18   \n",
       "...                                         ...         ...            ...   \n",
       "and Zimmerman Sons                   2019-08-14  2019-08-14     2019-08-16   \n",
       "and Zuniga Davis Carlson,            2019-10-25  2019-10-25     2019-11-11   \n",
       "and Zuniga Francis Peterson,         2020-09-03  2020-09-03     2020-09-13   \n",
       "and Zuniga Sons                      2022-07-15  2022-07-15     2022-07-30   \n",
       "and Zuniga Thompson, Blake           2022-06-24  2022-06-24     2022-06-25   \n",
       "\n",
       "                                           \n",
       "                                      max  \n",
       "hospital                                   \n",
       "Abbott Inc                     2022-05-10  \n",
       "Abbott Ltd                     2022-08-20  \n",
       "Abbott Moore and Williams,     2022-09-19  \n",
       "Abbott and Thompson, Sullivan  2022-12-29  \n",
       "Abbott, Peters and Hoffman     2022-01-18  \n",
       "...                                   ...  \n",
       "and Zimmerman Sons             2019-08-16  \n",
       "and Zuniga Davis Carlson,      2019-11-11  \n",
       "and Zuniga Francis Peterson,   2020-09-13  \n",
       "and Zuniga Sons                2022-07-30  \n",
       "and Zuniga Thompson, Blake     2022-06-25  \n",
       "\n",
       "[39876 rows x 4 columns]"
      ]
     },
     "execution_count": 22,
     "metadata": {},
     "output_type": "execute_result"
    }
   ],
   "source": [
    "# What is the earliest admission date and latest discharge date for each hospital?\n",
    "admission_discharge_dates = data.groupby('hospital')['date_of_admission', 'discharge_date'].agg(['min', 'max'])\n",
    "admission_discharge_dates"
   ]
  },
  {
   "cell_type": "code",
   "execution_count": 23,
   "id": "624105e4",
   "metadata": {},
   "outputs": [
    {
     "data": {
      "text/plain": [
       "hospital\n",
       "Abbott Inc                       38052.041917\n",
       "Abbott Ltd                       29877.586483\n",
       "Abbott Moore and Williams,       24799.596339\n",
       "Abbott and Thompson, Sullivan    16738.569765\n",
       "Abbott, Peters and Hoffman       37684.793727\n",
       "                                     ...     \n",
       "and Zimmerman Sons               32706.652625\n",
       "and Zuniga Davis Carlson,        42867.041298\n",
       "and Zuniga Francis Peterson,     33689.630726\n",
       "and Zuniga Sons                  33950.170483\n",
       "and Zuniga Thompson, Blake       22067.428763\n",
       "Name: billing_amount, Length: 39876, dtype: float64"
      ]
     },
     "execution_count": 23,
     "metadata": {},
     "output_type": "execute_result"
    }
   ],
   "source": [
    "#What is the total billing amount for each hospital?\n",
    "total_billing_amount = data.groupby('hospital')['billing_amount'].sum()\n",
    "total_billing_amount"
   ]
  },
  {
   "cell_type": "code",
   "execution_count": 24,
   "id": "8460014f",
   "metadata": {},
   "outputs": [
    {
     "data": {
      "text/plain": [
       "medical_condition\n",
       "Arthritis       51.565320\n",
       "Asthma          51.575830\n",
       "Cancer          51.558795\n",
       "Diabetes        51.554170\n",
       "Hypertension    51.741915\n",
       "Obesity         51.240277\n",
       "Name: age, dtype: float64"
      ]
     },
     "execution_count": 24,
     "metadata": {},
     "output_type": "execute_result"
    }
   ],
   "source": [
    "# What is the average age of patients based on their medical condition?\n",
    "average_age_by_medical_condition = data.groupby('medical_condition')['age'].mean()\n",
    "average_age_by_medical_condition"
   ]
  },
  {
   "cell_type": "code",
   "execution_count": 25,
   "id": "8a1e3d17",
   "metadata": {},
   "outputs": [
    {
     "data": {
      "text/plain": [
       "admission_type\n",
       "Elective     18655\n",
       "Emergency    18269\n",
       "Urgent       18576\n",
       "Name: age, dtype: int64"
      ]
     },
     "execution_count": 25,
     "metadata": {},
     "output_type": "execute_result"
    }
   ],
   "source": [
    "# How many patients were admitted under each admission type?\n",
    "patient_count_by_admission_type = data.groupby('admission_type')['age'].count()\n",
    "patient_count_by_admission_type"
   ]
  },
  {
   "cell_type": "markdown",
   "id": "ac54785e",
   "metadata": {},
   "source": [
    "# Seeting and removing index"
   ]
  },
  {
   "cell_type": "code",
   "execution_count": 26,
   "id": "b8bac23a",
   "metadata": {},
   "outputs": [
    {
     "data": {
      "text/html": [
       "<div>\n",
       "<style scoped>\n",
       "    .dataframe tbody tr th:only-of-type {\n",
       "        vertical-align: middle;\n",
       "    }\n",
       "\n",
       "    .dataframe tbody tr th {\n",
       "        vertical-align: top;\n",
       "    }\n",
       "\n",
       "    .dataframe thead th {\n",
       "        text-align: right;\n",
       "    }\n",
       "</style>\n",
       "<table border=\"1\" class=\"dataframe\">\n",
       "  <thead>\n",
       "    <tr style=\"text-align: right;\">\n",
       "      <th></th>\n",
       "      <th>name</th>\n",
       "      <th>gender</th>\n",
       "      <th>blood_type</th>\n",
       "      <th>medical_condition</th>\n",
       "      <th>date_of_admission</th>\n",
       "      <th>doctor</th>\n",
       "      <th>hospital</th>\n",
       "      <th>insurance_provider</th>\n",
       "      <th>billing_amount</th>\n",
       "      <th>room_number</th>\n",
       "      <th>admission_type</th>\n",
       "      <th>discharge_date</th>\n",
       "      <th>medication</th>\n",
       "      <th>test_results</th>\n",
       "    </tr>\n",
       "    <tr>\n",
       "      <th>age</th>\n",
       "      <th></th>\n",
       "      <th></th>\n",
       "      <th></th>\n",
       "      <th></th>\n",
       "      <th></th>\n",
       "      <th></th>\n",
       "      <th></th>\n",
       "      <th></th>\n",
       "      <th></th>\n",
       "      <th></th>\n",
       "      <th></th>\n",
       "      <th></th>\n",
       "      <th></th>\n",
       "      <th></th>\n",
       "    </tr>\n",
       "  </thead>\n",
       "  <tbody>\n",
       "    <tr>\n",
       "      <th>30</th>\n",
       "      <td>Bobby JacksOn</td>\n",
       "      <td>Male</td>\n",
       "      <td>B-</td>\n",
       "      <td>Cancer</td>\n",
       "      <td>2024-01-31</td>\n",
       "      <td>Matthew Smith</td>\n",
       "      <td>Sons and Miller</td>\n",
       "      <td>Blue Cross</td>\n",
       "      <td>18856.281306</td>\n",
       "      <td>328</td>\n",
       "      <td>Urgent</td>\n",
       "      <td>2024-02-02</td>\n",
       "      <td>Paracetamol</td>\n",
       "      <td>Normal</td>\n",
       "    </tr>\n",
       "    <tr>\n",
       "      <th>62</th>\n",
       "      <td>LesLie TErRy</td>\n",
       "      <td>Male</td>\n",
       "      <td>A+</td>\n",
       "      <td>Obesity</td>\n",
       "      <td>2019-08-20</td>\n",
       "      <td>Samantha Davies</td>\n",
       "      <td>Kim Inc</td>\n",
       "      <td>Medicare</td>\n",
       "      <td>33643.327287</td>\n",
       "      <td>265</td>\n",
       "      <td>Emergency</td>\n",
       "      <td>2019-08-26</td>\n",
       "      <td>Ibuprofen</td>\n",
       "      <td>Inconclusive</td>\n",
       "    </tr>\n",
       "    <tr>\n",
       "      <th>76</th>\n",
       "      <td>DaNnY sMitH</td>\n",
       "      <td>Female</td>\n",
       "      <td>A-</td>\n",
       "      <td>Obesity</td>\n",
       "      <td>2022-09-22</td>\n",
       "      <td>Tiffany Mitchell</td>\n",
       "      <td>Cook PLC</td>\n",
       "      <td>Aetna</td>\n",
       "      <td>27955.096079</td>\n",
       "      <td>205</td>\n",
       "      <td>Emergency</td>\n",
       "      <td>2022-10-07</td>\n",
       "      <td>Aspirin</td>\n",
       "      <td>Normal</td>\n",
       "    </tr>\n",
       "    <tr>\n",
       "      <th>28</th>\n",
       "      <td>andrEw waTtS</td>\n",
       "      <td>Female</td>\n",
       "      <td>O+</td>\n",
       "      <td>Diabetes</td>\n",
       "      <td>2020-11-18</td>\n",
       "      <td>Kevin Wells</td>\n",
       "      <td>Hernandez Rogers and Vang,</td>\n",
       "      <td>Medicare</td>\n",
       "      <td>37909.782410</td>\n",
       "      <td>450</td>\n",
       "      <td>Elective</td>\n",
       "      <td>2020-12-18</td>\n",
       "      <td>Ibuprofen</td>\n",
       "      <td>Abnormal</td>\n",
       "    </tr>\n",
       "    <tr>\n",
       "      <th>43</th>\n",
       "      <td>adrIENNE bEll</td>\n",
       "      <td>Female</td>\n",
       "      <td>AB+</td>\n",
       "      <td>Cancer</td>\n",
       "      <td>2022-09-19</td>\n",
       "      <td>Kathleen Hanna</td>\n",
       "      <td>White-White</td>\n",
       "      <td>Aetna</td>\n",
       "      <td>14238.317814</td>\n",
       "      <td>458</td>\n",
       "      <td>Urgent</td>\n",
       "      <td>2022-10-09</td>\n",
       "      <td>Penicillin</td>\n",
       "      <td>Abnormal</td>\n",
       "    </tr>\n",
       "  </tbody>\n",
       "</table>\n",
       "</div>"
      ],
      "text/plain": [
       "              name  gender blood_type medical_condition date_of_admission  \\\n",
       "age                                                                         \n",
       "30   Bobby JacksOn    Male         B-            Cancer        2024-01-31   \n",
       "62    LesLie TErRy    Male         A+           Obesity        2019-08-20   \n",
       "76     DaNnY sMitH  Female         A-           Obesity        2022-09-22   \n",
       "28    andrEw waTtS  Female         O+          Diabetes        2020-11-18   \n",
       "43   adrIENNE bEll  Female        AB+            Cancer        2022-09-19   \n",
       "\n",
       "               doctor                    hospital insurance_provider  \\\n",
       "age                                                                    \n",
       "30      Matthew Smith             Sons and Miller         Blue Cross   \n",
       "62    Samantha Davies                     Kim Inc           Medicare   \n",
       "76   Tiffany Mitchell                    Cook PLC              Aetna   \n",
       "28        Kevin Wells  Hernandez Rogers and Vang,           Medicare   \n",
       "43     Kathleen Hanna                 White-White              Aetna   \n",
       "\n",
       "     billing_amount  room_number admission_type discharge_date   medication  \\\n",
       "age                                                                           \n",
       "30     18856.281306          328         Urgent     2024-02-02  Paracetamol   \n",
       "62     33643.327287          265      Emergency     2019-08-26    Ibuprofen   \n",
       "76     27955.096079          205      Emergency     2022-10-07      Aspirin   \n",
       "28     37909.782410          450       Elective     2020-12-18    Ibuprofen   \n",
       "43     14238.317814          458         Urgent     2022-10-09   Penicillin   \n",
       "\n",
       "     test_results  \n",
       "age                \n",
       "30         Normal  \n",
       "62   Inconclusive  \n",
       "76         Normal  \n",
       "28       Abnormal  \n",
       "43       Abnormal  "
      ]
     },
     "execution_count": 26,
     "metadata": {},
     "output_type": "execute_result"
    }
   ],
   "source": [
    "# Set the index \n",
    "data_index = data.set_index(\"age\")\n",
    "data_index.head()"
   ]
  },
  {
   "cell_type": "code",
   "execution_count": 27,
   "id": "20aca7ff",
   "metadata": {},
   "outputs": [
    {
     "data": {
      "text/html": [
       "<div>\n",
       "<style scoped>\n",
       "    .dataframe tbody tr th:only-of-type {\n",
       "        vertical-align: middle;\n",
       "    }\n",
       "\n",
       "    .dataframe tbody tr th {\n",
       "        vertical-align: top;\n",
       "    }\n",
       "\n",
       "    .dataframe thead th {\n",
       "        text-align: right;\n",
       "    }\n",
       "</style>\n",
       "<table border=\"1\" class=\"dataframe\">\n",
       "  <thead>\n",
       "    <tr style=\"text-align: right;\">\n",
       "      <th></th>\n",
       "      <th>name</th>\n",
       "      <th>gender</th>\n",
       "      <th>blood_type</th>\n",
       "      <th>medical_condition</th>\n",
       "      <th>date_of_admission</th>\n",
       "      <th>doctor</th>\n",
       "      <th>hospital</th>\n",
       "      <th>insurance_provider</th>\n",
       "      <th>billing_amount</th>\n",
       "      <th>room_number</th>\n",
       "      <th>admission_type</th>\n",
       "      <th>discharge_date</th>\n",
       "      <th>medication</th>\n",
       "      <th>test_results</th>\n",
       "    </tr>\n",
       "    <tr>\n",
       "      <th>age</th>\n",
       "      <th></th>\n",
       "      <th></th>\n",
       "      <th></th>\n",
       "      <th></th>\n",
       "      <th></th>\n",
       "      <th></th>\n",
       "      <th></th>\n",
       "      <th></th>\n",
       "      <th></th>\n",
       "      <th></th>\n",
       "      <th></th>\n",
       "      <th></th>\n",
       "      <th></th>\n",
       "      <th></th>\n",
       "    </tr>\n",
       "  </thead>\n",
       "  <tbody>\n",
       "    <tr>\n",
       "      <th>30</th>\n",
       "      <td>Bobby JacksOn</td>\n",
       "      <td>Male</td>\n",
       "      <td>B-</td>\n",
       "      <td>Cancer</td>\n",
       "      <td>2024-01-31</td>\n",
       "      <td>Matthew Smith</td>\n",
       "      <td>Sons and Miller</td>\n",
       "      <td>Blue Cross</td>\n",
       "      <td>18856.281306</td>\n",
       "      <td>328</td>\n",
       "      <td>Urgent</td>\n",
       "      <td>2024-02-02</td>\n",
       "      <td>Paracetamol</td>\n",
       "      <td>Normal</td>\n",
       "    </tr>\n",
       "    <tr>\n",
       "      <th>62</th>\n",
       "      <td>LesLie TErRy</td>\n",
       "      <td>Male</td>\n",
       "      <td>A+</td>\n",
       "      <td>Obesity</td>\n",
       "      <td>2019-08-20</td>\n",
       "      <td>Samantha Davies</td>\n",
       "      <td>Kim Inc</td>\n",
       "      <td>Medicare</td>\n",
       "      <td>33643.327287</td>\n",
       "      <td>265</td>\n",
       "      <td>Emergency</td>\n",
       "      <td>2019-08-26</td>\n",
       "      <td>Ibuprofen</td>\n",
       "      <td>Inconclusive</td>\n",
       "    </tr>\n",
       "    <tr>\n",
       "      <th>76</th>\n",
       "      <td>DaNnY sMitH</td>\n",
       "      <td>Female</td>\n",
       "      <td>A-</td>\n",
       "      <td>Obesity</td>\n",
       "      <td>2022-09-22</td>\n",
       "      <td>Tiffany Mitchell</td>\n",
       "      <td>Cook PLC</td>\n",
       "      <td>Aetna</td>\n",
       "      <td>27955.096079</td>\n",
       "      <td>205</td>\n",
       "      <td>Emergency</td>\n",
       "      <td>2022-10-07</td>\n",
       "      <td>Aspirin</td>\n",
       "      <td>Normal</td>\n",
       "    </tr>\n",
       "    <tr>\n",
       "      <th>28</th>\n",
       "      <td>andrEw waTtS</td>\n",
       "      <td>Female</td>\n",
       "      <td>O+</td>\n",
       "      <td>Diabetes</td>\n",
       "      <td>2020-11-18</td>\n",
       "      <td>Kevin Wells</td>\n",
       "      <td>Hernandez Rogers and Vang,</td>\n",
       "      <td>Medicare</td>\n",
       "      <td>37909.782410</td>\n",
       "      <td>450</td>\n",
       "      <td>Elective</td>\n",
       "      <td>2020-12-18</td>\n",
       "      <td>Ibuprofen</td>\n",
       "      <td>Abnormal</td>\n",
       "    </tr>\n",
       "    <tr>\n",
       "      <th>43</th>\n",
       "      <td>adrIENNE bEll</td>\n",
       "      <td>Female</td>\n",
       "      <td>AB+</td>\n",
       "      <td>Cancer</td>\n",
       "      <td>2022-09-19</td>\n",
       "      <td>Kathleen Hanna</td>\n",
       "      <td>White-White</td>\n",
       "      <td>Aetna</td>\n",
       "      <td>14238.317814</td>\n",
       "      <td>458</td>\n",
       "      <td>Urgent</td>\n",
       "      <td>2022-10-09</td>\n",
       "      <td>Penicillin</td>\n",
       "      <td>Abnormal</td>\n",
       "    </tr>\n",
       "  </tbody>\n",
       "</table>\n",
       "</div>"
      ],
      "text/plain": [
       "              name  gender blood_type medical_condition date_of_admission  \\\n",
       "age                                                                         \n",
       "30   Bobby JacksOn    Male         B-            Cancer        2024-01-31   \n",
       "62    LesLie TErRy    Male         A+           Obesity        2019-08-20   \n",
       "76     DaNnY sMitH  Female         A-           Obesity        2022-09-22   \n",
       "28    andrEw waTtS  Female         O+          Diabetes        2020-11-18   \n",
       "43   adrIENNE bEll  Female        AB+            Cancer        2022-09-19   \n",
       "\n",
       "               doctor                    hospital insurance_provider  \\\n",
       "age                                                                    \n",
       "30      Matthew Smith             Sons and Miller         Blue Cross   \n",
       "62    Samantha Davies                     Kim Inc           Medicare   \n",
       "76   Tiffany Mitchell                    Cook PLC              Aetna   \n",
       "28        Kevin Wells  Hernandez Rogers and Vang,           Medicare   \n",
       "43     Kathleen Hanna                 White-White              Aetna   \n",
       "\n",
       "     billing_amount  room_number admission_type discharge_date   medication  \\\n",
       "age                                                                           \n",
       "30     18856.281306          328         Urgent     2024-02-02  Paracetamol   \n",
       "62     33643.327287          265      Emergency     2019-08-26    Ibuprofen   \n",
       "76     27955.096079          205      Emergency     2022-10-07      Aspirin   \n",
       "28     37909.782410          450       Elective     2020-12-18    Ibuprofen   \n",
       "43     14238.317814          458         Urgent     2022-10-09   Penicillin   \n",
       "\n",
       "     test_results  \n",
       "age                \n",
       "30         Normal  \n",
       "62   Inconclusive  \n",
       "76         Normal  \n",
       "28       Abnormal  \n",
       "43       Abnormal  "
      ]
     },
     "execution_count": 27,
     "metadata": {},
     "output_type": "execute_result"
    }
   ],
   "source": [
    "data_index.reset_index()\n",
    "data_index.head()"
   ]
  },
  {
   "cell_type": "code",
   "execution_count": null,
   "id": "450ede93",
   "metadata": {},
   "outputs": [],
   "source": []
  }
 ],
 "metadata": {
  "kernelspec": {
   "display_name": "Python 3 (ipykernel)",
   "language": "python",
   "name": "python3"
  },
  "language_info": {
   "codemirror_mode": {
    "name": "ipython",
    "version": 3
   },
   "file_extension": ".py",
   "mimetype": "text/x-python",
   "name": "python",
   "nbconvert_exporter": "python",
   "pygments_lexer": "ipython3",
   "version": "3.9.7"
  }
 },
 "nbformat": 4,
 "nbformat_minor": 5
}
